{
  "nbformat": 4,
  "nbformat_minor": 0,
  "metadata": {
    "colab": {
      "provenance": [],
      "authorship_tag": "ABX9TyMhKU1C4MIZinxt6cc3ohh2",
      "include_colab_link": true
    },
    "kernelspec": {
      "name": "python3",
      "display_name": "Python 3"
    },
    "language_info": {
      "name": "python"
    }
  },
  "cells": [
    {
      "cell_type": "markdown",
      "metadata": {
        "id": "view-in-github",
        "colab_type": "text"
      },
      "source": [
        "<a href=\"https://colab.research.google.com/github/abhinaybongoni/code-Alpha/blob/main/task_3_disease_predicition.ipynb\" target=\"_parent\"><img src=\"https://colab.research.google.com/assets/colab-badge.svg\" alt=\"Open In Colab\"/></a>"
      ]
    },
    {
      "cell_type": "code",
      "execution_count": null,
      "metadata": {
        "collapsed": true,
        "id": "hSeuBJVQDDXn"
      },
      "outputs": [],
      "source": [
        "pip install pandas scikit-learn numpy"
      ]
    },
    {
      "cell_type": "code",
      "source": [
        "from google.colab import drive\n",
        "drive.mount('/content/drive')"
      ],
      "metadata": {
        "id": "Xm4ea0nhDKqK"
      },
      "execution_count": null,
      "outputs": []
    },
    {
      "cell_type": "code",
      "source": [
        "import pandas as pd\n",
        "from sklearn.model_selection import train_test_split\n",
        "from sklearn.ensemble import RandomForestClassifier\n",
        "from sklearn.metrics import classification_report, confusion_matrix\n",
        "from sklearn.preprocessing import LabelEncoder, OrdinalEncoder # Import OrdinalEncoder\n",
        "\n",
        "data = pd.read_csv('/content/drive/MyDrive/medical_data.csv')\n",
        "print(data.head())\n",
        "\n",
        "# Print the columns of the DataFrame to check for the correct name\n",
        "print(data.columns)\n",
        "\n",
        "# Create a LabelEncoder object\n",
        "le = LabelEncoder()\n",
        "\n",
        "# List of categorical columns to encode\n",
        "# Make sure these column names match the actual names in your DataFrame\n",
        "categorical_cols = ['Gender', 'Blood Type', 'Medical Condition']\n",
        "\n",
        "# Loop through categorical columns and apply Label Encoding\n",
        "for col in categorical_cols:\n",
        "    # Check if the column exists before trying to access it\n",
        "    if col in data.columns:\n",
        "        data[col] = le.fit_transform(data[col]) # Convert categorical columns to numerical\n",
        "    else:\n",
        "        print(f\"Column '{col}' not found in DataFrame. Skipping...\")\n",
        "\n",
        "# Handle the 'Last Checkup Date' column - Check if the column exists before proceeding\n",
        "if 'Last Checkup Date' in data.columns:\n",
        "    # Assuming it's a date, we'll convert it to ordinal values\n",
        "    # Convert to datetime object, handle errors, and ensure NaT values are replaced with a placeholder\n",
        "    data['Last Checkup Date'] = pd.to_datetime(data['Last Checkup Date'], errors='coerce').fillna(pd.Timestamp.min)\n",
        "    # Create an OrdinalEncoder\n",
        "    ordinal_encoder = OrdinalEncoder()\n",
        "    # Convert datetime to"
      ],
      "metadata": {
        "id": "PeY1qW23DNj-"
      },
      "execution_count": null,
      "outputs": []
    }
  ]
}